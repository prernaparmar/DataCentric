  {
   "cell_type": "code",
   "execution_count": 3,
   "id": "0bd3b4d8",
   "metadata": {},
   "outputs": [
    {
     "name": "stdout",
     "output_type": "stream",
     "text": [
      "Enter your weight in Kg:54\n",
      "Enter your height in meters:1.54\n",
      "Healthy Weight\n"
     ]
    }
   ],
   "source": [
    "weight = float(input(\"Enter your weight in Kg:\"))\n",
    "height = float(input(\"Enter your height in meters:\"))\n",
    "\n",
    "BMI = weight / height ** 2\n",
    "\n",
    "if BMI<18.5:\n",
    "    print(\"Under Weight\")\n",
    "elif BMI<25:\n",
    "    print(\"Healthy Weight\")\n",
    "else:\n",
    "    print(\"Over Weight\")"
   ]
  },
  {
   "cell_type": "code",
   "execution_count": null,
   "id": "ad31568b",
   "metadata": {},
   "outputs": [],
   "source": []
  }
 ],
 "metadata": {
  "kernelspec": {
   "display_name": "Python 3 (ipykernel)",
   "language": "python",
   "name": "python3"
  },
  "language_info": {
   "codemirror_mode": {
    "name": "ipython",
    "version": 3
   },
   "file_extension": ".py",
   "mimetype": "text/x-python",
   "name": "python",
   "nbconvert_exporter": "python",
   "pygments_lexer": "ipython3",
   "version": "3.10.9"
  }
 },
 "nbformat": 4,
 "nbformat_minor": 5
}
